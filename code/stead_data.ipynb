{
 "cells": [
  {
   "cell_type": "code",
   "execution_count": 5,
   "id": "f7c5bad7",
   "metadata": {},
   "outputs": [],
   "source": [
    "import pandas as pd\n",
    "import h5py\n",
    "import numpy as np\n",
    "import matplotlib.pyplot as plt"
   ]
  },
  {
   "cell_type": "code",
   "execution_count": null,
   "id": "6ad9e8a2",
   "metadata": {},
   "outputs": [],
   "source": [
    "file_name = \"../datasets/stead/merge.hdf5\"\n",
    "csv_file = \"../datasets/stead/merge.csv\"\n",
    "\n",
    "# reading the csv file into a dataframe:\n",
    "df = pd.read_csv(csv_file)\n",
    "print(f'total events in csv file: {len(df)}')\n",
    "# filterering the dataframe\n",
    "df = df[(df.trace_category == 'earthquake_local') & (df.source_distance_km <= 20) & (df.source_magnitude > 3)]\n",
    "print(f'total events selected: {len(df)}')\n",
    "\n",
    "# making a list of trace names for the selected data\n",
    "ev_list = df['trace_name'].to_list()\n",
    "\n",
    "# retrieving selected waveforms from the hdf5 file: \n",
    "dtfl = h5py.File(file_name, 'r')\n",
    "for c, evi in enumerate(ev_list):\n",
    "    dataset = dtfl.get('data/'+str(evi)) \n",
    "    # waveforms, 3 channels: first row: E channel, second row: N channel, third row: Z channel \n",
    "    data = np.array(dataset)\n",
    "\n",
    "    fig = plt.figure()\n",
    "    ax = fig.add_subplot(311)         \n",
    "    plt.plot(data[:,0], 'k')\n",
    "    plt.rcParams[\"figure.figsize\"] = (8, 5)\n",
    "    legend_properties = {'weight':'bold'}    \n",
    "    plt.tight_layout()\n",
    "    ymin, ymax = ax.get_ylim()\n",
    "    pl = plt.vlines(dataset.attrs['p_arrival_sample'], ymin, ymax, color='b', linewidth=2, label='P-arrival')\n",
    "    sl = plt.vlines(dataset.attrs['s_arrival_sample'], ymin, ymax, color='r', linewidth=2, label='S-arrival')\n",
    "    cl = plt.vlines(dataset.attrs['coda_end_sample'], ymin, ymax, color='aqua', linewidth=2, label='Coda End')\n",
    "    plt.legend(handles=[pl, sl, cl], loc = 'upper right', borderaxespad=0., prop=legend_properties)        \n",
    "    plt.ylabel('Amplitude counts', fontsize=12) \n",
    "    ax.set_xticklabels([])\n",
    "\n",
    "    ax = fig.add_subplot(312)         \n",
    "    plt.plot(data[:,1], 'k')\n",
    "    plt.rcParams[\"figure.figsize\"] = (8, 5)\n",
    "    legend_properties = {'weight':'bold'}    \n",
    "    plt.tight_layout()\n",
    "    ymin, ymax = ax.get_ylim()\n",
    "    pl = plt.vlines(dataset.attrs['p_arrival_sample'], ymin, ymax, color='b', linewidth=2, label='P-arrival')\n",
    "    sl = plt.vlines(dataset.attrs['s_arrival_sample'], ymin, ymax, color='r', linewidth=2, label='S-arrival')\n",
    "    cl = plt.vlines(dataset.attrs['coda_end_sample'], ymin, ymax, color='aqua', linewidth=2, label='Coda End')\n",
    "    plt.legend(handles=[pl, sl, cl], loc = 'upper right', borderaxespad=0., prop=legend_properties)        \n",
    "    plt.ylabel('Amplitude counts', fontsize=12) \n",
    "    ax.set_xticklabels([])\n",
    "\n",
    "    ax = fig.add_subplot(313)         \n",
    "    plt.plot(data[:,2], 'k')\n",
    "    plt.rcParams[\"figure.figsize\"] = (8,5)\n",
    "    legend_properties = {'weight':'bold'}    \n",
    "    plt.tight_layout()\n",
    "    ymin, ymax = ax.get_ylim()\n",
    "    pl = plt.vlines(dataset.attrs['p_arrival_sample'], ymin, ymax, color='b', linewidth=2, label='P-arrival')\n",
    "    sl = plt.vlines(dataset.attrs['s_arrival_sample'], ymin, ymax, color='r', linewidth=2, label='S-arrival')\n",
    "    cl = plt.vlines(dataset.attrs['coda_end_sample'], ymin, ymax, color='aqua', linewidth=2, label='Coda End')\n",
    "    plt.legend(handles=[pl, sl, cl], loc = 'upper right', borderaxespad=0., prop=legend_properties)        \n",
    "    plt.ylabel('Amplitude counts', fontsize=12) \n",
    "    ax.set_xticklabels([])\n",
    "    plt.show() \n",
    "\n",
    "    for at in dataset.attrs:\n",
    "        print(at, dataset.attrs[at])    \n",
    "\n",
    "#     break\n",
    "    inp = input(\"Press a key to plot the next waveform!\")\n",
    "    if inp == \"r\":\n",
    "        continue             "
   ]
  },
  {
   "cell_type": "code",
   "execution_count": 1,
   "id": "72dd81a8",
   "metadata": {},
   "outputs": [
    {
     "name": "stderr",
     "output_type": "stream",
     "text": [
      "/home/jovyan/work/data.py:85: DtypeWarning: Columns (7,11,13,14,15,18,19,20,21,22,24,25,26,30,31) have mixed types.Specify dtype option on import or set low_memory=False.\n",
      "  gen = stead_generator(hdf_file,csv_file,test_ratio,noise_ratio)\n"
     ]
    }
   ],
   "source": [
    "%load_ext autoreload\n",
    "%autoreload 1\n",
    "\n",
    "%aimport train_stead\n",
    "%aimport model.model\n",
    "%aimport data\n",
    "\n",
    "\n",
    "train_ds,test_ds = data.get_stead()\n",
    "train_ds = train_ds\n",
    "test_ds = test_ds"
   ]
  },
  {
   "cell_type": "code",
   "execution_count": 2,
   "id": "ec29c87a",
   "metadata": {},
   "outputs": [],
   "source": [
    "x,y = next(iter(train_ds))"
   ]
  },
  {
   "cell_type": "code",
   "execution_count": 3,
   "id": "3cac1887",
   "metadata": {},
   "outputs": [
    {
     "data": {
      "text/plain": [
       "(array([ 0,  1,  2,  3,  7, 12, 14, 16, 18, 19, 20, 23, 24, 25, 27]),\n",
       " array([0, 0, 0, 0, 0, 0, 0, 0, 0, 0, 0, 0, 0, 0, 0]))"
      ]
     },
     "execution_count": 3,
     "metadata": {},
     "output_type": "execute_result"
    }
   ],
   "source": [
    "import numpy as np\n",
    "np.where(y == [0])"
   ]
  },
  {
   "cell_type": "code",
   "execution_count": 6,
   "id": "9c02ac18",
   "metadata": {},
   "outputs": [
    {
     "data": {
      "text/plain": [
       "[<matplotlib.lines.Line2D at 0x7fb352656520>]"
      ]
     },
     "execution_count": 6,
     "metadata": {},
     "output_type": "execute_result"
    },
    {
     "data": {
      "image/png": "[encoded data removed]",
      "text/plain": [
       "<Figure size 432x288 with 1 Axes>"
      ]
     },
     "metadata": {
      "needs_background": "light"
     },
     "output_type": "display_data"
    }
   ],
   "source": [
    "plt.plot(x[0][:,0], 'k')"
   ]
  },
  {
   "cell_type": "code",
   "execution_count": 21,
   "id": "9ff48cf0",
   "metadata": {},
   "outputs": [
    {
     "data": {
      "text/plain": [
       "[<matplotlib.lines.Line2D at 0x7f8b84e3c130>]"
      ]
     },
     "execution_count": 21,
     "metadata": {},
     "output_type": "execute_result"
    },
    {
     "data": {
      "image/png": "[encoded data removed]",
      "text/plain": [
       "<Figure size 576x360 with 1 Axes>"
      ]
     },
     "metadata": {
      "needs_background": "light"
     },
     "output_type": "display_data"
    }
   ],
   "source": [
    "plt.plot(x[1][:,0], 'k')"
   ]
  }
 ],
 "metadata": {
  "kernelspec": {
   "display_name": "Python 3",
   "language": "python",
   "name": "python3"
  },
  "language_info": {
   "codemirror_mode": {
    "name": "ipython",
    "version": 3
   },
   "file_extension": ".py",
   "mimetype": "text/x-python",
   "name": "python",
   "nbconvert_exporter": "python",
   "pygments_lexer": "ipython3",
   "version": "3.8.8"
  }
 },
 "nbformat": 4,
 "nbformat_minor": 5
}
