{
 "cells": [
  {
   "cell_type": "code",
   "execution_count": 1,
   "id": "e61c15d6",
   "metadata": {},
   "outputs": [],
   "source": [
    "import os\n",
    "# os.environ['XLA_FLAGS']='--xla_gpu_deterministic_reductions'\n",
    "# os.environ['TF_CUDNN_DETERMINISTIC']='1'\n",
    "\n",
    "import jax\n",
    "import jax.numpy as jnp\n",
    "from jax import random\n",
    "import numpy as np\n",
    "import tensorflow as tf\n",
    "import logging\n",
    "import matplotlib.pyplot as plt"
   ]
  },
  {
   "cell_type": "code",
   "execution_count": 2,
   "id": "5d193ef4",
   "metadata": {},
   "outputs": [],
   "source": [
    "from config import ConfigSchema\n",
    "config = ConfigSchema(\n",
    "    learning_rate = 0.001,\n",
    "    momentum = 0.9,\n",
    "    batch_size = 256,\n",
    "    num_epochs = 10,\n",
    ")"
   ]
  },
  {
   "cell_type": "code",
   "execution_count": 28,
   "id": "213ee0fe",
   "metadata": {},
   "outputs": [
    {
     "name": "stdout",
     "output_type": "stream",
     "text": [
      "The autoreload extension is already loaded. To reload it, use:\n",
      "  %reload_ext autoreload\n"
     ]
    }
   ],
   "source": [
    "%load_ext autoreload\n",
    "%autoreload 1\n",
    "\n",
    "%aimport train\n",
    "%aimport model.model\n",
    "%aimport data\n",
    "\n",
    "models = model.model"
   ]
  },
  {
   "cell_type": "code",
   "execution_count": 37,
   "id": "28f730d5",
   "metadata": {},
   "outputs": [],
   "source": [
    "weight_tie_pattern = tuple([0,*np.ones(7,dtype=int)])\n",
    "\n",
    "perceiver = models.Perceiver(\n",
    "    weight_tie_pattern = weight_tie_pattern,\n",
    "                                 # depth of net. The shape of the final attention mechanism will be:\n",
    "                                 #   depth * (cross attention -> self_per_cross_attn * self attention)\n",
    "    \n",
    "    num_freq_bands = 4,          # number of freq bands, with original value (2 * K + 1)\n",
    "    max_freq = 10.,              # maximum frequency, hyperparameter depending on how fine the data is\n",
    "    freq_base = 2,               \n",
    "\n",
    "    num_latents = 64,            # number of latents, or induced set points, or centroids. different papers giving it different names\n",
    "    latent_dim = 32,             # latent dimension\n",
    "    \n",
    "    cross_heads = 1,             # number of heads for cross attention. paper said 1\n",
    "    cross_head_dim = 64,         # number of dimensions per cross attention head\n",
    "    \n",
    "    latent_heads = 8,            # number of heads for latent self attention, 8\n",
    "    latent_head_dim = 16,        # number of dimensions per latent self attention head\n",
    "    \n",
    "    num_classes = 10,            # output number of classes\n",
    "    attn_dropout = 0.,\n",
    "    ff_dropout = 0.,\n",
    "    fourier_encode_data = True,  # whether to auto-fourier encode the data, using the input_axis given. defaults to True, but can be turned off if you are fourier encoding the data yourself\n",
    "    self_per_cross_attn = 2      # number of self attention blocks per cross attention\n",
    ")"
   ]
  },
  {
   "cell_type": "code",
   "execution_count": 30,
   "id": "9ab41997",
   "metadata": {},
   "outputs": [
    {
     "data": {
      "text/plain": [
       "(1, 10)"
      ]
     },
     "execution_count": 30,
     "metadata": {},
     "output_type": "execute_result"
    }
   ],
   "source": [
    "key = jax.random.PRNGKey(0)\n",
    "key, subkey = jax.random.split(key)\n",
    "\n",
    "img = random.normal(subkey,(1, 224, 224, 3)) # 1 imagenet image, pixelized\n",
    "\n",
    "params = perceiver.init(random.PRNGKey(0), img)\n",
    "\n",
    "out = perceiver.apply(params, img)\n",
    "\n",
    "out.shape\n"
   ]
  },
  {
   "cell_type": "code",
   "execution_count": 33,
   "id": "7aef9519",
   "metadata": {},
   "outputs": [],
   "source": [
    "train_ds, test_ds = data.get_datasets()"
   ]
  },
  {
   "cell_type": "code",
   "execution_count": 38,
   "id": "1068f113",
   "metadata": {},
   "outputs": [
    {
     "data": {
      "application/vnd.jupyter.widget-view+json": {
       "model_id": "d3d4644596eb4c0e9d236e6fdbc29d11",
       "version_major": 2,
       "version_minor": 0
      },
      "text/plain": [
       "  0%|          | 0/234 [00:00<?, ?it/s]"
      ]
     },
     "metadata": {},
     "output_type": "display_data"
    },
    {
     "name": "stdout",
     "output_type": "stream",
     "text": [
      "epoch:  1, train_loss: 2.0558, train_accuracy: 24.20, test_loss: 1.5426, test_accuracy: 42.97\n"
     ]
    },
    {
     "data": {
      "application/vnd.jupyter.widget-view+json": {
       "model_id": "4a3b379632ce4d2cb910ec0c30d3cd85",
       "version_major": 2,
       "version_minor": 0
      },
      "text/plain": [
       "  0%|          | 0/234 [00:00<?, ?it/s]"
      ]
     },
     "metadata": {},
     "output_type": "display_data"
    },
    {
     "name": "stdout",
     "output_type": "stream",
     "text": [
      "epoch:  2, train_loss: 0.9880, train_accuracy: 64.81, test_loss: 0.5677, test_accuracy: 80.47\n"
     ]
    },
    {
     "data": {
      "application/vnd.jupyter.widget-view+json": {
       "model_id": "14bdb4bee58143f1ab99831417c97d3f",
       "version_major": 2,
       "version_minor": 0
      },
      "text/plain": [
       "  0%|          | 0/234 [00:00<?, ?it/s]"
      ]
     },
     "metadata": {},
     "output_type": "display_data"
    },
    {
     "name": "stdout",
     "output_type": "stream",
     "text": [
      "epoch:  3, train_loss: 0.4754, train_accuracy: 84.80, test_loss: 0.4085, test_accuracy: 85.94\n"
     ]
    },
    {
     "data": {
      "application/vnd.jupyter.widget-view+json": {
       "model_id": "3def86a2d2a9442cad77b61fe06b57e9",
       "version_major": 2,
       "version_minor": 0
      },
      "text/plain": [
       "  0%|          | 0/234 [00:00<?, ?it/s]"
      ]
     },
     "metadata": {},
     "output_type": "display_data"
    },
    {
     "name": "stdout",
     "output_type": "stream",
     "text": [
      "epoch:  4, train_loss: 0.3256, train_accuracy: 89.73, test_loss: 0.2624, test_accuracy: 92.19\n"
     ]
    },
    {
     "data": {
      "application/vnd.jupyter.widget-view+json": {
       "model_id": "adee6d2ca0384312a577ed2ba8af0526",
       "version_major": 2,
       "version_minor": 0
      },
      "text/plain": [
       "  0%|          | 0/234 [00:00<?, ?it/s]"
      ]
     },
     "metadata": {},
     "output_type": "display_data"
    },
    {
     "name": "stdout",
     "output_type": "stream",
     "text": [
      "epoch:  5, train_loss: 0.2733, train_accuracy: 91.56, test_loss: 0.3064, test_accuracy: 90.23\n"
     ]
    },
    {
     "data": {
      "application/vnd.jupyter.widget-view+json": {
       "model_id": "2d5fff1d49c64017afccb25550792f75",
       "version_major": 2,
       "version_minor": 0
      },
      "text/plain": [
       "  0%|          | 0/234 [00:00<?, ?it/s]"
      ]
     },
     "metadata": {},
     "output_type": "display_data"
    },
    {
     "name": "stdout",
     "output_type": "stream",
     "text": [
      "epoch:  6, train_loss: 0.2272, train_accuracy: 92.88, test_loss: 0.1921, test_accuracy: 94.14\n"
     ]
    },
    {
     "data": {
      "application/vnd.jupyter.widget-view+json": {
       "model_id": "765c68e7336b483ca2a317fb8c5af69f",
       "version_major": 2,
       "version_minor": 0
      },
      "text/plain": [
       "  0%|          | 0/234 [00:00<?, ?it/s]"
      ]
     },
     "metadata": {},
     "output_type": "display_data"
    },
    {
     "name": "stdout",
     "output_type": "stream",
     "text": [
      "epoch:  7, train_loss: 0.1943, train_accuracy: 93.87, test_loss: 0.1624, test_accuracy: 95.31\n"
     ]
    },
    {
     "data": {
      "application/vnd.jupyter.widget-view+json": {
       "model_id": "4d040c1b2604414c9c8ba7b4cef129a0",
       "version_major": 2,
       "version_minor": 0
      },
      "text/plain": [
       "  0%|          | 0/234 [00:00<?, ?it/s]"
      ]
     },
     "metadata": {},
     "output_type": "display_data"
    },
    {
     "name": "stdout",
     "output_type": "stream",
     "text": [
      "epoch:  8, train_loss: 0.1722, train_accuracy: 94.55, test_loss: 0.1918, test_accuracy: 94.53\n"
     ]
    },
    {
     "data": {
      "application/vnd.jupyter.widget-view+json": {
       "model_id": "af29786dc81e421c893ab1ade13e6eba",
       "version_major": 2,
       "version_minor": 0
      },
      "text/plain": [
       "  0%|          | 0/234 [00:00<?, ?it/s]"
      ]
     },
     "metadata": {},
     "output_type": "display_data"
    },
    {
     "name": "stdout",
     "output_type": "stream",
     "text": [
      "epoch:  9, train_loss: 0.1542, train_accuracy: 95.09, test_loss: 0.1215, test_accuracy: 96.09\n"
     ]
    },
    {
     "data": {
      "application/vnd.jupyter.widget-view+json": {
       "model_id": "ae854e9d1d6a457fa7875e9dedade7e1",
       "version_major": 2,
       "version_minor": 0
      },
      "text/plain": [
       "  0%|          | 0/234 [00:00<?, ?it/s]"
      ]
     },
     "metadata": {},
     "output_type": "display_data"
    },
    {
     "name": "stdout",
     "output_type": "stream",
     "text": [
      "epoch: 10, train_loss: 0.1354, train_accuracy: 95.73, test_loss: 0.1455, test_accuracy: 96.09\n"
     ]
    }
   ],
   "source": [
    "state = train.train_and_evaluate(perceiver, train_ds, test_ds, config, workdir='../')"
   ]
  },
  {
   "cell_type": "code",
   "execution_count": 31,
   "id": "f0ae2fed",
   "metadata": {},
   "outputs": [
    {
     "data": {
      "text/plain": [
       "<matplotlib.image.AxesImage at 0x7f6b44337280>"
      ]
     },
     "execution_count": 31,
     "metadata": {},
     "output_type": "execute_result"
    },
    {
     "data": {
      "image/png": "[encoded data removed]",
      "text/plain": [
       "<Figure size 1080x288 with 1 Axes>"
      ]
     },
     "metadata": {
      "needs_background": "light"
     },
     "output_type": "display_data"
    }
   ],
   "source": [
    "x = train_ds['image'][0]\n",
    "\n",
    "f = model.features(state.params,[x])\n",
    "f = f.reshape((49,-1))\n",
    "\n",
    "fig,ax = plt.subplots(figsize=(15,4))\n",
    "ax.imshow(f)"
   ]
  },
  {
   "cell_type": "code",
   "execution_count": null,
   "id": "13c744d1",
   "metadata": {},
   "outputs": [],
   "source": []
  }
 ],
 "metadata": {
  "kernelspec": {
   "display_name": "Python 3",
   "language": "python",
   "name": "python3"
  },
  "language_info": {
   "codemirror_mode": {
    "name": "ipython",
    "version": 3
   },
   "file_extension": ".py",
   "mimetype": "text/x-python",
   "name": "python",
   "nbconvert_exporter": "python",
   "pygments_lexer": "ipython3",
   "version": "3.8.8"
  }
 },
 "nbformat": 4,
 "nbformat_minor": 5
}
